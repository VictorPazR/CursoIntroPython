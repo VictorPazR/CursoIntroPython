{
 "cells": [
  {
   "cell_type": "markdown",
   "metadata": {},
   "source": [
    "# Ejercicio 1: Creación de diccionarios de Python"
   ]
  },
  {
   "cell_type": "code",
   "execution_count": 16,
   "metadata": {},
   "outputs": [
    {
     "name": "stdout",
     "output_type": "stream",
     "text": [
      "Numero de planeta: 2 Nombre: Mars\n",
      "Numero de planeta: 2 Nombre: Mars \n",
      "Con una masa polar y una masa ecuatorial de: 6752 y 6792\n"
     ]
    }
   ],
   "source": [
    "planet={'name':'Mars','moons':2}\n",
    "print(\"Numero de planeta:\",planet.get('moons'),\"Nombre:\", planet.get('name'))\n",
    "planet['circumference']={\n",
    "    'polar':6752,\n",
    "    'equatorial':6792\n",
    "}\n",
    "print(\"Numero de planeta:\",planet.get('moons'),\"Nombre:\", planet.get('name'),\"\\nCon una masa polar y una masa ecuatorial de:\",planet['circumference']['polar'],\"y\",planet['circumference']['equatorial'])"
   ]
  },
  {
   "cell_type": "markdown",
   "metadata": {},
   "source": [
    "# Ejercicio 2: Programación dinámica con diccionarios"
   ]
  },
  {
   "cell_type": "markdown",
   "metadata": {},
   "source": [
    "Ejercicio: Cálculo de valores"
   ]
  },
  {
   "cell_type": "code",
   "execution_count": 44,
   "metadata": {},
   "outputs": [
    {
     "name": "stdout",
     "output_type": "stream",
     "text": [
      "dict_values([0, 0, 1, 2, 79, 82, 27, 14, 5, 2, 1, 1])\n",
      "17.833333333333332\n"
     ]
    }
   ],
   "source": [
    "planet_moons = {\n",
    "    'mercury': 0,\n",
    "    'venus': 0,\n",
    "    'earth': 1,\n",
    "    'mars': 2,\n",
    "    'jupiter': 79,\n",
    "    'saturn': 82,\n",
    "    'uranus': 27,\n",
    "    'neptune': 14,\n",
    "    'pluto': 5,\n",
    "    'haumea': 2,\n",
    "    'makemake': 1,\n",
    "    'eris': 1\n",
    "}\n",
    "moons=planet_moons.values()\n",
    "planets=len(planet_moons.keys())\n",
    "print(moons)\n",
    "total_moons=0\n",
    "for moon in moons:\n",
    "    total_moons= total_moons+moon\n",
    "promedio= total_moons/planets\n",
    "print(promedio)\n"
   ]
  }
 ],
 "metadata": {
  "interpreter": {
   "hash": "ac59ebe37160ed0dfa835113d9b8498d9f09ceb179beaac4002f036b9467c963"
  },
  "kernelspec": {
   "display_name": "Python 3.9.6 64-bit",
   "language": "python",
   "name": "python3"
  },
  "language_info": {
   "codemirror_mode": {
    "name": "ipython",
    "version": 3
   },
   "file_extension": ".py",
   "mimetype": "text/x-python",
   "name": "python",
   "nbconvert_exporter": "python",
   "pygments_lexer": "ipython3",
   "version": "3.9.6"
  },
  "orig_nbformat": 4
 },
 "nbformat": 4,
 "nbformat_minor": 2
}
