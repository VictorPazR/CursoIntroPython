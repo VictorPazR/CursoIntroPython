{
 "cells": [
  {
   "cell_type": "markdown",
   "metadata": {},
   "source": [
    "# Módulo 6 - Introducción a las listas"
   ]
  },
  {
   "cell_type": "markdown",
   "metadata": {},
   "source": [
    "# Ejercicio 1 Crear y usar listas de Python"
   ]
  },
  {
   "cell_type": "code",
   "execution_count": 16,
   "metadata": {},
   "outputs": [
    {
     "name": "stdout",
     "output_type": "stream",
     "text": [
      "Tierra\n",
      "Marte\n",
      "Jupiter\n",
      "Saturno\n",
      "Neptuno\n",
      "Sol\n",
      "Mercurio\n",
      "Venus\n",
      "Urano\n",
      "Pluton\n"
     ]
    }
   ],
   "source": [
    "#Crear la lista y mostrarla\n",
    "lista = [\"Tierra\",\"Marte\",\"Jupiter\",\"Saturno\",\"Neptuno\",\"Sol\",\"Mercurio\",\"Venus\",\"Urano\"]\n",
    "for dato in lista:\n",
    "    print(dato)\n",
    "#Agregar a pluton\n",
    "lista.append(\"Pluton\")\n",
    "print(lista[len(lista)-1])"
   ]
  },
  {
   "cell_type": "markdown",
   "metadata": {},
   "source": [
    "# Ejercicio 2 Trabajando con los datos de una lista"
   ]
  },
  {
   "cell_type": "code",
   "execution_count": 30,
   "metadata": {},
   "outputs": [
    {
     "name": "stdout",
     "output_type": "stream",
     "text": [
      "Su palabra deseada se encuentra en la posicion 2 de la lista\n",
      "Planetas mas cercanos al sol: ['Mercurio', 'Venus']\n",
      "Planetas mas alejados al sol: ['Marte', 'Jupiter', 'Saturno', 'Neptuno']\n"
     ]
    }
   ],
   "source": [
    "# Definir la lista\n",
    "planetas =[\"Mercurio\",\"Venus\",\"Tierra\",\"Marte\",\"Jupiter\",\"Saturno\",\"Neptuno\"]\n",
    "# Pedir dato para buscar\n",
    "dato = input(\"Ingrese el nombre de un planeta a buscar: \")\n",
    "buscar= planetas.index(dato)\n",
    "if buscar > 0:\n",
    "    print(\"Su palabra deseada se encuentra en la posicion\",buscar,\"de la lista\")\n",
    "else:\n",
    "    print(\"El elemento que busca no se encuentra en la lista :(\")\n",
    "print(\"Planetas mas cercanos al sol:\",planetas[0:buscar])\n",
    "print(\"Planetas mas alejados al sol:\",planetas[buscar+1:len(planetas)])\n",
    "\n"
   ]
  }
 ],
 "metadata": {
  "interpreter": {
   "hash": "ac59ebe37160ed0dfa835113d9b8498d9f09ceb179beaac4002f036b9467c963"
  },
  "kernelspec": {
   "display_name": "Python 3.9.6 64-bit",
   "language": "python",
   "name": "python3"
  },
  "language_info": {
   "codemirror_mode": {
    "name": "ipython",
    "version": 3
   },
   "file_extension": ".py",
   "mimetype": "text/x-python",
   "name": "python",
   "nbconvert_exporter": "python",
   "pygments_lexer": "ipython3",
   "version": "3.9.6"
  },
  "orig_nbformat": 4
 },
 "nbformat": 4,
 "nbformat_minor": 2
}
