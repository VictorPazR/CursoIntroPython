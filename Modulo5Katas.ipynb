{
 "cells": [
  {
   "cell_type": "markdown",
   "metadata": {},
   "source": [
    "# Ejercicio 1 - Utilizar operadores aritmeticos"
   ]
  },
  {
   "cell_type": "code",
   "execution_count": 2,
   "metadata": {},
   "outputs": [
    {
     "name": "stdout",
     "output_type": "stream",
     "text": [
      "La distancia entre 778547200 y la 149597870 es: 628949330 km\n"
     ]
    }
   ],
   "source": [
    "Jupiter= 778547200\n",
    "Tierra = 149597870\n",
    "distancia = f\"\"\"La distancia entre Jupiter y la Tierra es: {Jupiter-Tierra} km\"\"\"\n",
    "print (distancia)"
   ]
  },
  {
   "cell_type": "markdown",
   "metadata": {},
   "source": [
    "# Ejercicio 2: convierte cadenas en números y usa valores absolutos"
   ]
  },
  {
   "cell_type": "code",
   "execution_count": 9,
   "metadata": {},
   "outputs": [
    {
     "name": "stdout",
     "output_type": "stream",
     "text": [
      "La distancia entre planetas es: 5\n",
      "La distancia en millas es: 3.105\n"
     ]
    }
   ],
   "source": [
    "planeta1 = int(input('Ingrese la distancia al sol del planeta 1 en KM: '))\n",
    "planeta2 = int(input('Ingrese la distancia al sol del planeta 2 en KM: '))\n",
    "distancia = f\"\"\"La distancia entre planetas es: {planeta2-planeta1}\"\"\"\n",
    "print(distancia)\n",
    "# A millas\n",
    "millas = (planeta2-planeta1)*0.621\n",
    "print(\"La distancia en millas es:\",abs(millas))"
   ]
  }
 ],
 "metadata": {
  "interpreter": {
   "hash": "ac59ebe37160ed0dfa835113d9b8498d9f09ceb179beaac4002f036b9467c963"
  },
  "kernelspec": {
   "display_name": "Python 3.9.6 64-bit",
   "language": "python",
   "name": "python3"
  },
  "language_info": {
   "codemirror_mode": {
    "name": "ipython",
    "version": 3
   },
   "file_extension": ".py",
   "mimetype": "text/x-python",
   "name": "python",
   "nbconvert_exporter": "python",
   "pygments_lexer": "ipython3",
   "version": "3.9.6"
  },
  "orig_nbformat": 4
 },
 "nbformat": 4,
 "nbformat_minor": 2
}
