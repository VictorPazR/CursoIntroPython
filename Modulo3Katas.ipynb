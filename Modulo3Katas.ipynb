{
 "cells": [
  {
   "cell_type": "markdown",
   "metadata": {},
   "source": [
    "# Ejercicio 1"
   ]
  },
  {
   "cell_type": "code",
   "execution_count": 1,
   "metadata": {},
   "outputs": [
    {
     "name": "stdout",
     "output_type": "stream",
     "text": [
      "Alerta, el asteroide se acerca\n"
     ]
    }
   ],
   "source": [
    "asteroide = 49\n",
    "alerta = 25\n",
    "if asteroide>alerta:\n",
    "    print (\"Alerta, el asteroide se acerca\")\n",
    "else:\n",
    "    print(\"Tranquilo, todo esta bien\")\n"
   ]
  },
  {
   "cell_type": "markdown",
   "metadata": {},
   "source": [
    "# Ejercicio 2"
   ]
  },
  {
   "cell_type": "code",
   "execution_count": null,
   "metadata": {},
   "outputs": [],
   "source": [
    "asteroide=19\n",
    "if asteroide > 20:\n",
    "    print (\"Se puede producir un rayo de luz!!!\")\n",
    "elif asteroide == 20:\n",
    "    print(\"Se puede producir un rayo de luz!!!\")\n",
    "else:\n",
    "    print(\"No se puede observar ningun rayo de luz!!!\")\n",
    "\n",
    "\n"
   ]
  },
  {
   "cell_type": "markdown",
   "metadata": {},
   "source": [
    "# Ejercicio 3"
   ]
  },
  {
   "cell_type": "code",
   "execution_count": null,
   "metadata": {},
   "outputs": [],
   "source": [
    "asteroide=25\n",
    "velocidad =26\n",
    "if asteroide>25 and asteroide<1000 and velocidad>25:\n",
    "    print(\"Precaucion por astereoide\")\n",
    "elif asteroide<25:\n",
    "    print(\"Sin problemas para la tierra\")\n",
    "elif velocidad<=20:\n",
    "    print(\"Se producira un rayo de luz\")\n",
    "else:\n",
    "    print(\"Nada que ver aqui\")\n"
   ]
  }
 ],
 "metadata": {
  "interpreter": {
   "hash": "ac59ebe37160ed0dfa835113d9b8498d9f09ceb179beaac4002f036b9467c963"
  },
  "kernelspec": {
   "display_name": "Python 3.9.6 64-bit",
   "language": "python",
   "name": "python3"
  },
  "language_info": {
   "codemirror_mode": {
    "name": "ipython",
    "version": 3
   },
   "file_extension": ".py",
   "mimetype": "text/x-python",
   "name": "python",
   "nbconvert_exporter": "python",
   "pygments_lexer": "ipython3",
   "version": "3.9.6"
  },
  "orig_nbformat": 4
 },
 "nbformat": 4,
 "nbformat_minor": 2
}
