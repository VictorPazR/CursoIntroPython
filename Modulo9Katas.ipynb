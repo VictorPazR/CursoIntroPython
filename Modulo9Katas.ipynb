{
 "cells": [
  {
   "cell_type": "markdown",
   "metadata": {},
   "source": [
    "# Ejercicio 1: Trabajar con argumentos en funciones"
   ]
  },
  {
   "cell_type": "code",
   "execution_count": 20,
   "metadata": {},
   "outputs": [
    {
     "name": "stdout",
     "output_type": "stream",
     "text": [
      "Promedio de los tanques: 3.0%\n",
      "El tanque 1 tiene la cantidad de 3%\n",
      "El tanque 2 tiene la cantidad de 3%\n",
      "El tanque 3 tiene la cantidad de 3%\n"
     ]
    }
   ],
   "source": [
    "def promedio(valores):\n",
    "    total = sum(valores)/len(valores)\n",
    "    return total\n",
    "def tanques(tanque1,tanque2,tanque3):\n",
    "    return f\"\"\"Promedio de los tanques: {promedio([tanque1,tanque2,tanque3])}%\n",
    "El tanque 1 tiene la cantidad de {tanque1}%\n",
    "El tanque 2 tiene la cantidad de {tanque2}%\n",
    "El tanque 3 tiene la cantidad de {tanque3}%\"\"\"\n",
    "print(tanques(3,3,3))\n"
   ]
  },
  {
   "cell_type": "markdown",
   "metadata": {},
   "source": [
    "# Ejercicio 2: Trabajo con argumentos de palabra clave"
   ]
  },
  {
   "cell_type": "markdown",
   "metadata": {},
   "source": [
    "Ejercicio : Trabajar con argumentos de palabras clave en funciones"
   ]
  },
  {
   "cell_type": "code",
   "execution_count": 25,
   "metadata": {},
   "outputs": [
    {
     "name": "stdout",
     "output_type": "stream",
     "text": [
      "Tiempo total de viaje: 65 minutos, \n",
      "Destino: Marte, Total de combustible: 500000 litros\n",
      "\n",
      "Tiempo total de viaje: 20 minutos, \n",
      "    Destino: Marte, Total de combustible: 70000 litros\n",
      "    interno tanque --> 50000 galeones\n",
      "externo tanque --> 20000 galeones\n",
      "\n"
     ]
    }
   ],
   "source": [
    "from datetime import timedelta, datetime\n",
    "now = datetime.now()\n",
    "\n",
    "def informe(hora,tiempo,destino,tanque_externo,tanque_interno):\n",
    "    return f\"\"\"Tiempo total de viaje: {hora+tiempo} minutos, \n",
    "Destino: {destino}, Total de combustible: {tanque_interno+tanque_externo} litros\n",
    "\"\"\"\n",
    "\n",
    "def informe1(destino,*tiempo,**combustible):\n",
    "    reporte= f\"\"\"Tiempo total de viaje: {sum(tiempo)} minutos, \n",
    "    Destino: {destino}, Total de combustible: {sum(combustible.values())} litros\n",
    "    \"\"\"\n",
    "    for nombres, galeones in combustible.items():\n",
    "        reporte += f\"{nombres} tanque --> {galeones} galeones\\n\"\n",
    "    return reporte\n",
    "\n",
    "print(informe(14, 51, \"Marte\", 200000, 300000))\n",
    "print(informe1(\"Marte\",8,4,3,5,interno=50000,externo=20000))\n",
    "\n",
    "\n"
   ]
  }
 ],
 "metadata": {
  "interpreter": {
   "hash": "ac59ebe37160ed0dfa835113d9b8498d9f09ceb179beaac4002f036b9467c963"
  },
  "kernelspec": {
   "display_name": "Python 3.9.6 64-bit",
   "language": "python",
   "name": "python3"
  },
  "language_info": {
   "codemirror_mode": {
    "name": "ipython",
    "version": 3
   },
   "file_extension": ".py",
   "mimetype": "text/x-python",
   "name": "python",
   "nbconvert_exporter": "python",
   "pygments_lexer": "ipython3",
   "version": "3.9.6"
  },
  "orig_nbformat": 4
 },
 "nbformat": 4,
 "nbformat_minor": 2
}
