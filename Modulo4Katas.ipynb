{
 "cells": [
  {
   "cell_type": "markdown",
   "metadata": {},
   "source": [
    "# Ejercicio 1 Transformar cadenas"
   ]
  },
  {
   "cell_type": "code",
   "execution_count": 4,
   "metadata": {},
   "outputs": [
    {
     "name": "stdout",
     "output_type": "stream",
     "text": [
      "average,\n",
      "average\n",
      "temperature\n",
      "distance\n"
     ]
    }
   ],
   "source": [
    "text = \"\"\"Interesting facts about the Moon. The Moon is Earth's only satellite. \n",
    "There are several interesting facts about the Moon and how it affects life here on Earth. \n",
    "On average, the Moon moves 4cm away from the Earth every year. This yearly drift is not significant enough to cause immediate effects on Earth. The higher\"\"\"\n",
    "text1=text.split()\n",
    "palabras = [\"average\",\"temperature\",\"distance\"]\n",
    "for i in text1:\n",
    "    for palabra in palabras:\n",
    "        if palabra in i:\n",
    "            print(i)\n",
    "            break\n",
    "for j in palabras:\n",
    "    for palabra in palabras:\n",
    "        if palabra in j:\n",
    "            print(j.replace(' C', ' Celsius'))\n",
    "            break"
   ]
  },
  {
   "cell_type": "markdown",
   "metadata": {},
   "source": [
    "# Ejercicio 2 Formateando cadenas"
   ]
  },
  {
   "cell_type": "code",
   "execution_count": 13,
   "metadata": {},
   "outputs": [
    {
     "name": "stdout",
     "output_type": "stream",
     "text": [
      "Datos sobre Marte\n",
      "-------------------- Nombre del planeta: Marte Gravedad en Ganimedes: 1.4300000000000002 m/s2 --------------------\n",
      "-------------------- Nombre del planeta: Marte Gravedad en Ganimedes: 1.4300000000000002 m/s2 --------------------\n",
      "\n",
      "Datos de Gravedad sobre: Ganímedes\n",
      "-------------------------------------------------------------------------------\n",
      "Nombre del planeta: Marte \n",
      "Gravedad en Ganímedes: 0.00143 m/s2\n",
      "\n"
     ]
    }
   ],
   "source": [
    "# Datos con los que vas a trabajar\n",
    "planeta=\"Marte\"\n",
    "gravedad=0.00143\n",
    "nombre=\"Ganimedes\"\n",
    "# Titulo\n",
    "titulo= f'Datos sobre {planeta}'\n",
    "print(titulo)\n",
    "#plantilla\n",
    "datos = f\"\"\"{'-'*20} Nombre del planeta: {planeta} Gravedad en {nombre}: {gravedad*1000} m/s2 {'-'*20}\"\"\"\n",
    "#Union de cadenas\n",
    "template = f\"\"\"{titulo.title()} \n",
    "{datos} \"\"\" \n",
    "#Comprobacion de plantilla\n",
    "print(datos)\n",
    "#Nuevos datos\n",
    "planeta = 'Marte '\n",
    "gravedad  = 0.00143\n",
    "nombre = 'Ganímedes'\n",
    "print(datos)\n",
    "#Comprobar la nueva informacion\n",
    "new_template = \"\"\"\n",
    "Datos de Gravedad sobre: {nombre}\n",
    "-------------------------------------------------------------------------------\n",
    "Nombre del planeta: {planeta}\n",
    "Gravedad en {nombre}: {gravedad} m/s2\n",
    "\"\"\"\n",
    "print(new_template.format(nombre=nombre, planeta=planeta, gravedad=gravedad))\n"
   ]
  }
 ],
 "metadata": {
  "interpreter": {
   "hash": "ac59ebe37160ed0dfa835113d9b8498d9f09ceb179beaac4002f036b9467c963"
  },
  "kernelspec": {
   "display_name": "Python 3.9.6 64-bit",
   "language": "python",
   "name": "python3"
  },
  "language_info": {
   "codemirror_mode": {
    "name": "ipython",
    "version": 3
   },
   "file_extension": ".py",
   "mimetype": "text/x-python",
   "name": "python",
   "nbconvert_exporter": "python",
   "pygments_lexer": "ipython3",
   "version": "3.9.6"
  },
  "orig_nbformat": 4
 },
 "nbformat": 4,
 "nbformat_minor": 2
}
